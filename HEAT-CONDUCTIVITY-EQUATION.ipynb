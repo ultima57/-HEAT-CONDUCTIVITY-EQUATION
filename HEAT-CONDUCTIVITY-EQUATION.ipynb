{
 "cells": [
  {
   "cell_type": "code",
   "execution_count": 1,
   "id": "972c7a41",
   "metadata": {},
   "outputs": [],
   "source": [
    "import numpy as np\n",
    "import matplotlib.pyplot as plt\n",
    "import tqdm as tqdm\n"
   ]
  },
  {
   "cell_type": "code",
   "execution_count": 2,
   "id": "3c4436df",
   "metadata": {},
   "outputs": [],
   "source": [
    "Nx = 100 # шаги по x\n",
    "Ny = 150# шаги по у\n",
    "M = 100 # шаги по времени\n",
    "T= 1 # максимальное время\n",
    "x = np.linspace(0,2,Nx)\n",
    "y = np.linspace(0,2,Ny)\n",
    "t = np.linspace(0,T,M)\n",
    "h_x = x[1] - x[0]\n",
    "h_y = y[1] - y[0]\n",
    "tau = (t[1] - t[0])/2\n",
    "gamma_x = tau / h_x**2\n",
    "gamma_y = tau / h_y**2\n",
    "u = np.zeros((Nx,Ny,2*M+1))"
   ]
  },
  {
   "cell_type": "code",
   "execution_count": 3,
   "id": "afa71499",
   "metadata": {},
   "outputs": [],
   "source": [
    "def F_1(i1,i2,j):\n",
    "    return (0.5 * gamma_y*(u[i1,i2-1,j*2]+u[i1,i2+1,j*2])+(1-gamma_y)*u[i1,i2,j*2]+0.5*tau*np.exp(tau*(j*2+1))*((y[i2]**2)-1))\n",
    "\n",
    "def F_2(i1,i2,j):\n",
    "    return 0.5 * gamma_x*(u[i1-1,i2,j*2+1]+u[i1+1,i2,2*j+1])+(1-gamma_x)*u[i1,i2,j*2+1]+0.5*tau*np.exp(tau*(j*2+1))*((y[i2]**2))\n",
    "                                                                                                                    \n",
    "def method_progonki_x(i2,j):\n",
    "    d = np.zeros(Nx+1)\n",
    "    sigma = np.zeros(Nx+1)\n",
    "    sigma[1] =0\n",
    "    d[1] = 1\n",
    "    A = gamma_x/2\n",
    "    B = 1+ gamma_x\n",
    "    C = 0.5*gamma_x\n",
    "    for m in range(1,Nx):\n",
    "        Fm = -F_1(m,i2,j)\n",
    "        d[m+1] = C/(B-A*d[m])\n",
    "        sigma[m+1] = (Fm-A*sigma[m])/(A*d[m]-B)\n",
    "    u[Nx-1,i2,j*2+1] = sigma[Nx]/(1-d[Nx])\n",
    "    for m in range(Nx-1,0,-1):\n",
    "        u[m-1,i2,j*2+1] = d[m]*u[m,i2,j*2+1]+sigma[m]\n",
    "                                                                                                                    \n",
    "def method_progonki_y(i1,j):\n",
    "    d = np.zeros(Ny+1)\n",
    "    sigma = np.zeros(Ny+1)\n",
    "    sigma[1] = 0\n",
    "    d[1] = 1\n",
    "    A = gamma_y/2\n",
    "    B = 1+ gamma_y\n",
    "    C = 0.5*gamma_y\n",
    "    for m in range(1,Ny):\n",
    "        Fm = F_2(i1,m,j)*(-1)\n",
    "        d[m+1] = C/(B - A * d[m])\n",
    "        sigma[m+1] = (Fm - A * sigma[m])/(A*d[m]-B)\n",
    "    u[i1,Ny-1,j*2] = sigma[Ny]/(1-d[Ny])\n",
    "    for m in range(Ny-1,0,-1):\n",
    "        u[i1,m-1,j*2] = d[m]*u[i1,m,j*2]+sigma[m]"
   ]
  },
  {
   "cell_type": "code",
   "execution_count": 5,
   "id": "24851aa2",
   "metadata": {},
   "outputs": [],
   "source": [
    "u[:,:,0] = 0\n",
    "                                                                                                                     "
   ]
  },
  {
   "cell_type": "code",
   "execution_count": 8,
   "id": "ea7570d3",
   "metadata": {},
   "outputs": [
    {
     "name": "stderr",
     "output_type": "stream",
     "text": [
      "C:\\Users\\artyo\\AppData\\Local\\Temp\\ipykernel_17624\\1304606846.py:1: TqdmDeprecationWarning: This function will be removed in tqdm==5.0.0\n",
      "Please use `tqdm.notebook.tqdm` instead of `tqdm.tqdm_notebook`\n",
      "  for j in tqdm.tqdm_notebook(range(0,M-1)):\n"
     ]
    },
    {
     "data": {
      "application/json": {
       "ascii": false,
       "bar_format": null,
       "colour": null,
       "elapsed": 0.019951343536376953,
       "initial": 0,
       "n": 0,
       "ncols": null,
       "nrows": 29,
       "postfix": null,
       "prefix": "",
       "rate": null,
       "total": 99,
       "unit": "it",
       "unit_divisor": 1000,
       "unit_scale": false
      },
      "application/vnd.jupyter.widget-view+json": {
       "model_id": "d518f7b1803f42b79efda9ab6dd0fb33",
       "version_major": 2,
       "version_minor": 0
      },
      "text/plain": [
       "  0%|          | 0/99 [00:00<?, ?it/s]"
      ]
     },
     "metadata": {},
     "output_type": "display_data"
    }
   ],
   "source": [
    "  for j in tqdm.tqdm_notebook(range(0,M-1)):\n",
    "        for i2 in range (1,Ny-1):\n",
    "            method_progonki_x(i2, j)\n",
    "        for i1 in range (1,Nx-1):\n",
    "            method_progonki_y(i1, j+1) "
   ]
  },
  {
   "cell_type": "code",
   "execution_count": 12,
   "id": "8ac54b1b",
   "metadata": {},
   "outputs": [],
   "source": [
    "f = open('text1.txt', 'w')\n",
    "for j in range(0,2*M-1,2):\n",
    "    for i2 in range(0,Ny-2):\n",
    "        f.write( str(i2*h_y)+\" \"+str(j*tau)+\" \"+str(u[50,i2,j])+ \"\\n\")\n",
    "f.close()"
   ]
  },
  {
   "cell_type": "code",
   "execution_count": null,
   "id": "8f98d715",
   "metadata": {},
   "outputs": [],
   "source": []
  }
 ],
 "metadata": {
  "kernelspec": {
   "display_name": "Python 3 (ipykernel)",
   "language": "python",
   "name": "python3"
  },
  "language_info": {
   "codemirror_mode": {
    "name": "ipython",
    "version": 3
   },
   "file_extension": ".py",
   "mimetype": "text/x-python",
   "name": "python",
   "nbconvert_exporter": "python",
   "pygments_lexer": "ipython3",
   "version": "3.8.10"
  }
 },
 "nbformat": 4,
 "nbformat_minor": 5
}
